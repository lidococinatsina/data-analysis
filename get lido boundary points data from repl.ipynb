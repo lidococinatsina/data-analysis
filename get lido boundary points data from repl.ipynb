{
 "cells": [
  {
   "cell_type": "code",
   "id": "initial_id",
   "metadata": {
    "collapsed": true,
    "ExecuteTime": {
     "end_time": "2025-05-27T02:45:52.920844Z",
     "start_time": "2025-05-27T02:45:52.438553Z"
    }
   },
   "source": [
    "import pandas as pd\n",
    "from sqlalchemy import create_engine\n",
    "\n",
    "%load_ext dotenv\n",
    "%dotenv\n",
    "\n",
    "connection_string = %env LIDO_DELIVERY_CONNECTION_STRING\n",
    "engine = create_engine(connection_string)"
   ],
   "outputs": [],
   "execution_count": 1
  },
  {
   "metadata": {
    "ExecuteTime": {
     "end_time": "2025-05-27T02:45:55.331571Z",
     "start_time": "2025-05-27T02:45:53.019806Z"
    }
   },
   "cell_type": "code",
   "source": [
    "sql = \"select * from boundary_points\"\n",
    "pd.read_sql(sql, engine).to_csv('assets/lido_boundary_points.csv', index=False)"
   ],
   "id": "fd33aa6b0dc67ee6",
   "outputs": [],
   "execution_count": 2
  },
  {
   "metadata": {
    "ExecuteTime": {
     "end_time": "2025-05-27T02:45:55.737207Z",
     "start_time": "2025-05-27T02:45:55.339555Z"
    }
   },
   "cell_type": "code",
   "source": [
    "sql = \"select * from boundaries\"\n",
    "pd.read_sql(sql, engine).to_csv('assets/lido_boundaries.csv', index=False)"
   ],
   "id": "636d4f75a5dfd7c1",
   "outputs": [],
   "execution_count": 3
  },
  {
   "metadata": {
    "ExecuteTime": {
     "end_time": "2025-05-27T02:45:56.162067Z",
     "start_time": "2025-05-27T02:45:55.748916Z"
    }
   },
   "cell_type": "code",
   "source": [
    "sql = \"select * from trade_areas\"\n",
    "pd.read_sql(sql, engine).to_csv('assets/lido_trade_areas.csv', index=False)"
   ],
   "id": "2bfbc4a85df11bb7",
   "outputs": [],
   "execution_count": 4
  },
  {
   "metadata": {
    "ExecuteTime": {
     "end_time": "2025-05-27T02:45:56.177117Z",
     "start_time": "2025-05-27T02:45:56.174612Z"
    }
   },
   "cell_type": "code",
   "source": "engine.dispose(close=True)",
   "id": "f30f8c8b259612b5",
   "outputs": [],
   "execution_count": 5
  },
  {
   "metadata": {
    "ExecuteTime": {
     "end_time": "2025-05-27T02:45:56.200856Z",
     "start_time": "2025-05-27T02:45:56.199388Z"
    }
   },
   "cell_type": "code",
   "source": "",
   "id": "854c504623099ab4",
   "outputs": [],
   "execution_count": null
  }
 ],
 "metadata": {
  "kernelspec": {
   "display_name": "Python 3",
   "language": "python",
   "name": "python3"
  },
  "language_info": {
   "codemirror_mode": {
    "name": "ipython",
    "version": 2
   },
   "file_extension": ".py",
   "mimetype": "text/x-python",
   "name": "python",
   "nbconvert_exporter": "python",
   "pygments_lexer": "ipython2",
   "version": "2.7.6"
  }
 },
 "nbformat": 4,
 "nbformat_minor": 5
}
