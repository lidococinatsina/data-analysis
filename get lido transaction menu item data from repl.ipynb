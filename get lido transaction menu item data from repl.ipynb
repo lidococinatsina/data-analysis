{
 "cells": [
  {
   "cell_type": "code",
   "id": "initial_id",
   "metadata": {
    "collapsed": true,
    "ExecuteTime": {
     "end_time": "2025-05-12T12:32:49.000394Z",
     "start_time": "2025-05-12T12:32:48.167941Z"
    }
   },
   "source": [
    "import pandas as pd\n",
    "from sqlalchemy import create_engine\n",
    "\n",
    "%load_ext dotenv\n",
    "%dotenv\n",
    "\n",
    "connection_string = %env LIDO_CONNECTION_STRING\n",
    "engine = create_engine(connection_string)"
   ],
   "outputs": [],
   "execution_count": 1
  },
  {
   "metadata": {
    "ExecuteTime": {
     "end_time": "2025-05-12T12:34:04.179177Z",
     "start_time": "2025-05-12T12:32:54.282048Z"
    }
   },
   "cell_type": "code",
   "source": [
    "sql = \"select * from transaction_menu_items where deletebyid is null\"\n",
    "pd.read_sql(sql, engine).to_csv('assets/lido_transaction_menu_items.csv', index=False)"
   ],
   "id": "fd33aa6b0dc67ee6",
   "outputs": [],
   "execution_count": 2
  },
  {
   "metadata": {
    "ExecuteTime": {
     "end_time": "2025-05-12T12:34:06.262268Z",
     "start_time": "2025-05-12T12:34:06.254475Z"
    }
   },
   "cell_type": "code",
   "source": "engine.dispose(close=True)",
   "id": "f30f8c8b259612b5",
   "outputs": [],
   "execution_count": 3
  }
 ],
 "metadata": {
  "kernelspec": {
   "display_name": "Python 3",
   "language": "python",
   "name": "python3"
  },
  "language_info": {
   "codemirror_mode": {
    "name": "ipython",
    "version": 2
   },
   "file_extension": ".py",
   "mimetype": "text/x-python",
   "name": "python",
   "nbconvert_exporter": "python",
   "pygments_lexer": "ipython2",
   "version": "2.7.6"
  }
 },
 "nbformat": 4,
 "nbformat_minor": 5
}
