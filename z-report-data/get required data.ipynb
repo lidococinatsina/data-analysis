{
 "cells": [
  {
   "cell_type": "code",
   "id": "initial_id",
   "metadata": {
    "collapsed": true,
    "ExecuteTime": {
     "end_time": "2025-06-07T07:23:38.034272Z",
     "start_time": "2025-06-07T07:23:38.029385Z"
    }
   },
   "source": [
    "import pandas as pd\n",
    "from variables import app_vars\n",
    "from sqlalchemy import create_engine\n",
    "import json\n",
    "\n",
    "%load_ext dotenv\n",
    "%dotenv\n",
    "\n",
    "connection_string = %env YANZI_CONNECTION_STRING\n",
    "engine = create_engine(connection_string)\n",
    "store_name = app_vars.STORE_NAME"
   ],
   "outputs": [
    {
     "name": "stdout",
     "output_type": "stream",
     "text": [
      "The dotenv extension is already loaded. To reload it, use:\n",
      "  %reload_ext dotenv\n"
     ]
    }
   ],
   "execution_count": 27
  },
  {
   "metadata": {
    "ExecuteTime": {
     "end_time": "2025-06-07T07:23:40.542536Z",
     "start_time": "2025-06-07T07:23:38.043715Z"
    }
   },
   "cell_type": "code",
   "source": [
    "sql = f\"select * from transactions where Store = '{store_name}'\"\n",
    "pd.read_sql(sql, engine).to_csv(f'./assets/{store_name}_transactions.csv', index=False)"
   ],
   "id": "fd33aa6b0dc67ee6",
   "outputs": [],
   "execution_count": 28
  },
  {
   "metadata": {
    "ExecuteTime": {
     "end_time": "2025-06-07T07:23:41.700567Z",
     "start_time": "2025-06-07T07:23:40.550549Z"
    }
   },
   "cell_type": "code",
   "source": [
    "sql = f\"select * from sync_info where store = '{store_name}' and SyncEntityType = 'Transaction'\"\n",
    "pd.read_sql(sql, engine).to_csv(f'./assets/{store_name}_transactions_sync_info.csv', index=False)"
   ],
   "id": "6a285d402efd3500",
   "outputs": [],
   "execution_count": 29
  },
  {
   "metadata": {
    "ExecuteTime": {
     "end_time": "2025-06-07T07:23:41.910390Z",
     "start_time": "2025-06-07T07:23:41.710196Z"
    }
   },
   "cell_type": "code",
   "source": [
    "sql = (\"\"\n",
    "       \"select td.* \"\n",
    "       \"from transaction_discounts td \"\n",
    "       \"inner join transactions t on t.id = td.TransactionId \"\n",
    "       f\"where t.Store = '{store_name}' and t.DeleteById is null and td.DeleteById is null\"\n",
    "       \"\")\n",
    "\n",
    "pd.read_sql(sql, engine).to_csv(f'./assets/{store_name}_transaction_discounts.csv', index=False)"
   ],
   "id": "31219d6e1935adec",
   "outputs": [],
   "execution_count": 30
  },
  {
   "metadata": {
    "ExecuteTime": {
     "end_time": "2025-06-07T07:23:42.122767Z",
     "start_time": "2025-06-07T07:23:41.920481Z"
    }
   },
   "cell_type": "code",
   "source": [
    "sql = f\"select * from store_configurations where StoreName = '{store_name}'\"\n",
    "data = json.loads(pd.read_sql(sql, engine).to_json(orient='records'))\n",
    "app_vars.header = data[0]['Header']\n",
    "app_vars.footer = data[0]['Footer']"
   ],
   "id": "852b9e964b16241f",
   "outputs": [],
   "execution_count": 31
  },
  {
   "metadata": {
    "ExecuteTime": {
     "end_time": "2025-06-07T07:23:42.136461Z",
     "start_time": "2025-06-07T07:23:42.133186Z"
    }
   },
   "cell_type": "code",
   "source": "engine.dispose(close=True)",
   "id": "f30f8c8b259612b5",
   "outputs": [],
   "execution_count": 32
  }
 ],
 "metadata": {
  "kernelspec": {
   "display_name": "Python 3",
   "language": "python",
   "name": "python3"
  },
  "language_info": {
   "codemirror_mode": {
    "name": "ipython",
    "version": 2
   },
   "file_extension": ".py",
   "mimetype": "text/x-python",
   "name": "python",
   "nbconvert_exporter": "python",
   "pygments_lexer": "ipython2",
   "version": "2.7.6"
  }
 },
 "nbformat": 4,
 "nbformat_minor": 5
}
