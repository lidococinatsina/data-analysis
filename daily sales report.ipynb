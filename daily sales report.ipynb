{
 "cells": [
  {
   "cell_type": "code",
   "id": "initial_id",
   "metadata": {
    "collapsed": true,
    "ExecuteTime": {
     "end_time": "2025-04-21T12:13:20.762084Z",
     "start_time": "2025-04-21T12:13:20.435800Z"
    }
   },
   "source": [
    "import numpy as np\n",
    "import pandas as pd"
   ],
   "outputs": [],
   "execution_count": 1
  },
  {
   "metadata": {
    "ExecuteTime": {
     "end_time": "2025-04-21T12:13:21.614500Z",
     "start_time": "2025-04-21T12:13:20.763421Z"
    }
   },
   "cell_type": "code",
   "source": [
    "lido = (pd\n",
    "        .read_csv('assets/lido_transactions.csv',\n",
    "                  parse_dates=['CreateDate'],\n",
    "                  date_format='%Y-%m-%d %H:%M:%S',\n",
    "                  dtype={'Store': 'category', 'Gross': 'float64', 'HeadCount': 'int64'},\n",
    "                  usecols=['CreateDate', 'Gross', 'Store', 'DeleteById', 'HeadCount', 'Tags'])\n",
    "        .where(lambda x: x['DeleteById'].isna())\n",
    "        .dropna(how='all')\n",
    "        .drop(columns=['DeleteById']))\n",
    "\n",
    "yanzi = (pd\n",
    "         .read_csv('assets/yanzi_transactions.csv',\n",
    "                   parse_dates=['CreateDate'],\n",
    "                   date_format='%Y-%m-%d %H:%M:%S',\n",
    "                   dtype={'Store': 'category', 'Gross': 'float64', 'HeadCount': 'int64'},\n",
    "                   usecols=['CreateDate', 'Gross', 'Store', 'DeleteById', 'HeadCount', 'Tags'])\n",
    "         .where(lambda x: x['DeleteById'].isna())\n",
    "         .dropna(how='all')\n",
    "         .drop(columns=['DeleteById']))\n",
    "\n",
    "transactions = pd.concat([lido, yanzi], ignore_index=True)\n",
    "transactions.head()"
   ],
   "id": "5a608aa9a5826a32",
   "outputs": [
    {
     "data": {
      "text/plain": [
       "   HeadCount   Gross                              Tags Store  \\\n",
       "0        1.0   255.0                           #DineIn  Erod   \n",
       "1        1.0   255.0                           #DineIn  Erod   \n",
       "2        3.0  1005.0  #DineIn#SeniorDiscount#VatExempt  Erod   \n",
       "3        1.0   515.0                      TakeOut#Grab  Erod   \n",
       "4        1.0  1547.0                Delivery#FoodPanda  Erod   \n",
       "\n",
       "           CreateDate  \n",
       "0 2022-03-23 08:54:52  \n",
       "1 2022-03-23 09:00:02  \n",
       "2 2022-03-23 09:01:29  \n",
       "3 2022-03-23 09:39:35  \n",
       "4 2022-03-23 09:44:01  "
      ],
      "text/html": [
       "<div>\n",
       "<style scoped>\n",
       "    .dataframe tbody tr th:only-of-type {\n",
       "        vertical-align: middle;\n",
       "    }\n",
       "\n",
       "    .dataframe tbody tr th {\n",
       "        vertical-align: top;\n",
       "    }\n",
       "\n",
       "    .dataframe thead th {\n",
       "        text-align: right;\n",
       "    }\n",
       "</style>\n",
       "<table border=\"1\" class=\"dataframe\">\n",
       "  <thead>\n",
       "    <tr style=\"text-align: right;\">\n",
       "      <th></th>\n",
       "      <th>HeadCount</th>\n",
       "      <th>Gross</th>\n",
       "      <th>Tags</th>\n",
       "      <th>Store</th>\n",
       "      <th>CreateDate</th>\n",
       "    </tr>\n",
       "  </thead>\n",
       "  <tbody>\n",
       "    <tr>\n",
       "      <th>0</th>\n",
       "      <td>1.0</td>\n",
       "      <td>255.0</td>\n",
       "      <td>#DineIn</td>\n",
       "      <td>Erod</td>\n",
       "      <td>2022-03-23 08:54:52</td>\n",
       "    </tr>\n",
       "    <tr>\n",
       "      <th>1</th>\n",
       "      <td>1.0</td>\n",
       "      <td>255.0</td>\n",
       "      <td>#DineIn</td>\n",
       "      <td>Erod</td>\n",
       "      <td>2022-03-23 09:00:02</td>\n",
       "    </tr>\n",
       "    <tr>\n",
       "      <th>2</th>\n",
       "      <td>3.0</td>\n",
       "      <td>1005.0</td>\n",
       "      <td>#DineIn#SeniorDiscount#VatExempt</td>\n",
       "      <td>Erod</td>\n",
       "      <td>2022-03-23 09:01:29</td>\n",
       "    </tr>\n",
       "    <tr>\n",
       "      <th>3</th>\n",
       "      <td>1.0</td>\n",
       "      <td>515.0</td>\n",
       "      <td>TakeOut#Grab</td>\n",
       "      <td>Erod</td>\n",
       "      <td>2022-03-23 09:39:35</td>\n",
       "    </tr>\n",
       "    <tr>\n",
       "      <th>4</th>\n",
       "      <td>1.0</td>\n",
       "      <td>1547.0</td>\n",
       "      <td>Delivery#FoodPanda</td>\n",
       "      <td>Erod</td>\n",
       "      <td>2022-03-23 09:44:01</td>\n",
       "    </tr>\n",
       "  </tbody>\n",
       "</table>\n",
       "</div>"
      ]
     },
     "execution_count": 2,
     "metadata": {},
     "output_type": "execute_result"
    }
   ],
   "execution_count": 2
  },
  {
   "metadata": {
    "ExecuteTime": {
     "end_time": "2025-04-21T12:13:21.795747Z",
     "start_time": "2025-04-21T12:13:21.730780Z"
    }
   },
   "cell_type": "code",
   "source": [
    "start = pd.Timestamp('2025-03-01').date()\n",
    "end = pd.Timestamp('2025-03-31').date()\n",
    "transactions = transactions.loc[transactions['CreateDate'].dt.date.between(start, end)]\n",
    "transactions"
   ],
   "id": "c7850d44c852366d",
   "outputs": [
    {
     "data": {
      "text/plain": [
       "        HeadCount   Gross                                  Tags     Store  \\\n",
       "235035        1.0  1194.0                         #TakeOut#Grab    Cainta   \n",
       "235036        7.0  1895.0      #DineIn#SeniorDiscount#VatExempt    Cainta   \n",
       "235037        3.0   770.0  #DineIn#Pwd#VatExempt#SeniorDiscount    Cainta   \n",
       "235038        1.0   435.0                         #TakeOut#Grab    Cainta   \n",
       "235039        1.0  1338.0                         #TakeOut#Grab    Cainta   \n",
       "...           ...     ...                                   ...       ...   \n",
       "340977        3.0   897.0      #DineIn#SeniorDiscount#VatExempt  Marikina   \n",
       "340978        5.0  2228.0                               #DineIn  Marikina   \n",
       "340979        1.0   345.0      #DineIn#SeniorDiscount#VatExempt  Marikina   \n",
       "340980        1.0   565.0                         #TakeOut#Grab  Marikina   \n",
       "340981        1.0  1648.0                         #TakeOut#Grab  Marikina   \n",
       "\n",
       "                CreateDate  \n",
       "235035 2025-03-01 08:00:20  \n",
       "235036 2025-03-01 08:05:47  \n",
       "235037 2025-03-01 08:18:49  \n",
       "235038 2025-03-01 08:27:39  \n",
       "235039 2025-03-01 08:38:33  \n",
       "...                    ...  \n",
       "340977 2025-03-31 20:26:05  \n",
       "340978 2025-03-31 20:41:54  \n",
       "340979 2025-03-31 20:45:53  \n",
       "340980 2025-03-31 21:51:34  \n",
       "340981 2025-03-31 22:11:22  \n",
       "\n",
       "[22820 rows x 5 columns]"
      ],
      "text/html": [
       "<div>\n",
       "<style scoped>\n",
       "    .dataframe tbody tr th:only-of-type {\n",
       "        vertical-align: middle;\n",
       "    }\n",
       "\n",
       "    .dataframe tbody tr th {\n",
       "        vertical-align: top;\n",
       "    }\n",
       "\n",
       "    .dataframe thead th {\n",
       "        text-align: right;\n",
       "    }\n",
       "</style>\n",
       "<table border=\"1\" class=\"dataframe\">\n",
       "  <thead>\n",
       "    <tr style=\"text-align: right;\">\n",
       "      <th></th>\n",
       "      <th>HeadCount</th>\n",
       "      <th>Gross</th>\n",
       "      <th>Tags</th>\n",
       "      <th>Store</th>\n",
       "      <th>CreateDate</th>\n",
       "    </tr>\n",
       "  </thead>\n",
       "  <tbody>\n",
       "    <tr>\n",
       "      <th>235035</th>\n",
       "      <td>1.0</td>\n",
       "      <td>1194.0</td>\n",
       "      <td>#TakeOut#Grab</td>\n",
       "      <td>Cainta</td>\n",
       "      <td>2025-03-01 08:00:20</td>\n",
       "    </tr>\n",
       "    <tr>\n",
       "      <th>235036</th>\n",
       "      <td>7.0</td>\n",
       "      <td>1895.0</td>\n",
       "      <td>#DineIn#SeniorDiscount#VatExempt</td>\n",
       "      <td>Cainta</td>\n",
       "      <td>2025-03-01 08:05:47</td>\n",
       "    </tr>\n",
       "    <tr>\n",
       "      <th>235037</th>\n",
       "      <td>3.0</td>\n",
       "      <td>770.0</td>\n",
       "      <td>#DineIn#Pwd#VatExempt#SeniorDiscount</td>\n",
       "      <td>Cainta</td>\n",
       "      <td>2025-03-01 08:18:49</td>\n",
       "    </tr>\n",
       "    <tr>\n",
       "      <th>235038</th>\n",
       "      <td>1.0</td>\n",
       "      <td>435.0</td>\n",
       "      <td>#TakeOut#Grab</td>\n",
       "      <td>Cainta</td>\n",
       "      <td>2025-03-01 08:27:39</td>\n",
       "    </tr>\n",
       "    <tr>\n",
       "      <th>235039</th>\n",
       "      <td>1.0</td>\n",
       "      <td>1338.0</td>\n",
       "      <td>#TakeOut#Grab</td>\n",
       "      <td>Cainta</td>\n",
       "      <td>2025-03-01 08:38:33</td>\n",
       "    </tr>\n",
       "    <tr>\n",
       "      <th>...</th>\n",
       "      <td>...</td>\n",
       "      <td>...</td>\n",
       "      <td>...</td>\n",
       "      <td>...</td>\n",
       "      <td>...</td>\n",
       "    </tr>\n",
       "    <tr>\n",
       "      <th>340977</th>\n",
       "      <td>3.0</td>\n",
       "      <td>897.0</td>\n",
       "      <td>#DineIn#SeniorDiscount#VatExempt</td>\n",
       "      <td>Marikina</td>\n",
       "      <td>2025-03-31 20:26:05</td>\n",
       "    </tr>\n",
       "    <tr>\n",
       "      <th>340978</th>\n",
       "      <td>5.0</td>\n",
       "      <td>2228.0</td>\n",
       "      <td>#DineIn</td>\n",
       "      <td>Marikina</td>\n",
       "      <td>2025-03-31 20:41:54</td>\n",
       "    </tr>\n",
       "    <tr>\n",
       "      <th>340979</th>\n",
       "      <td>1.0</td>\n",
       "      <td>345.0</td>\n",
       "      <td>#DineIn#SeniorDiscount#VatExempt</td>\n",
       "      <td>Marikina</td>\n",
       "      <td>2025-03-31 20:45:53</td>\n",
       "    </tr>\n",
       "    <tr>\n",
       "      <th>340980</th>\n",
       "      <td>1.0</td>\n",
       "      <td>565.0</td>\n",
       "      <td>#TakeOut#Grab</td>\n",
       "      <td>Marikina</td>\n",
       "      <td>2025-03-31 21:51:34</td>\n",
       "    </tr>\n",
       "    <tr>\n",
       "      <th>340981</th>\n",
       "      <td>1.0</td>\n",
       "      <td>1648.0</td>\n",
       "      <td>#TakeOut#Grab</td>\n",
       "      <td>Marikina</td>\n",
       "      <td>2025-03-31 22:11:22</td>\n",
       "    </tr>\n",
       "  </tbody>\n",
       "</table>\n",
       "<p>22820 rows × 5 columns</p>\n",
       "</div>"
      ]
     },
     "execution_count": 3,
     "metadata": {},
     "output_type": "execute_result"
    }
   ],
   "execution_count": 3
  },
  {
   "metadata": {},
   "cell_type": "markdown",
   "source": "# Compute gross total stats",
   "id": "be57dbc5e9531e6f"
  },
  {
   "metadata": {
    "ExecuteTime": {
     "end_time": "2025-04-21T12:13:21.830837Z",
     "start_time": "2025-04-21T12:13:21.817420Z"
    }
   },
   "cell_type": "code",
   "source": [
    "totals = transactions.groupby([transactions['CreateDate'].dt.date, 'Store'], observed=False)\n",
    "totals = totals.agg({\n",
    "    'Gross': ['sum', 'count', 'mean'],\n",
    "    'HeadCount': 'sum'\n",
    "})\n",
    "totals.columns = ['_'.join(c).strip() for c in totals.columns]\n",
    "totals = totals.rename(columns={\n",
    "    'Gross_sum': 'TotalGross',\n",
    "    'HeadCount_sum': 'TotalHeadCount',\n",
    "    'Gross_count': 'TotalTransactionCount',\n",
    "    'Gross_mean': 'TotalAverageCheque'\n",
    "})"
   ],
   "id": "167b0e634e4c2d2",
   "outputs": [],
   "execution_count": 4
  },
  {
   "metadata": {},
   "cell_type": "markdown",
   "source": "# Compute stats for each category",
   "id": "adbad70f161c345a"
  },
  {
   "metadata": {
    "ExecuteTime": {
     "end_time": "2025-04-21T12:13:21.870757Z",
     "start_time": "2025-04-21T12:13:21.862367Z"
    }
   },
   "cell_type": "code",
   "source": [
    "def get_aggregated_data(cond, col_name) -> pd.DataFrame:\n",
    "    filtered = transactions.where(cond)\n",
    "\n",
    "    group = filtered.groupby([filtered['CreateDate'].dt.date, 'Store'], observed=False)\n",
    "    aggregated = group.agg({\n",
    "        'Gross': ['sum', 'count', 'mean'],\n",
    "        'HeadCount': 'sum'\n",
    "    })\n",
    "\n",
    "    aggregated.columns = ['_'.join(c).strip() for c in aggregated.columns]\n",
    "\n",
    "    aggregated = aggregated.rename(columns={\n",
    "        'Gross_sum': f'{col_name}Gross',\n",
    "        'HeadCount_sum': f'{col_name}HeadCount',\n",
    "        'Gross_count': f'{col_name}TransactionCount',\n",
    "        'Gross_mean': f'{col_name}AverageCheque'\n",
    "    })\n",
    "\n",
    "    return aggregated[[f'{col_name}Gross', f'{col_name}HeadCount', f'{col_name}TransactionCount', f'{col_name}AverageCheque']].fillna(0).round(5)"
   ],
   "id": "28117f6cfe8ea843",
   "outputs": [],
   "execution_count": 5
  },
  {
   "metadata": {
    "ExecuteTime": {
     "end_time": "2025-04-21T12:14:08.642459Z",
     "start_time": "2025-04-21T12:14:08.504074Z"
    }
   },
   "cell_type": "code",
   "source": [
    "final = totals\n",
    "\n",
    "# compute stats for each transaction type and third party vendor\n",
    "transaction_types = ['DineIn', 'TakeOut', 'Function', 'Institutional', 'Delivery']\n",
    "third_parties = ['FoodPanda', 'Ons', 'Grab']\n",
    "\n",
    "for tag in transaction_types + third_parties:\n",
    "    agg = get_aggregated_data(lambda x: x['Tags'].str.contains(tag, na=False), tag)\n",
    "    final = final.join(agg, on=['CreateDate', 'Store'], how='left')\n",
    "\n",
    "\n",
    "# compute stats for each Day Part\n",
    "\n",
    "conditions = {\n",
    "    'Breakfast': transactions['CreateDate'].dt.hour.between(7, 10),\n",
    "    'Lunch': transactions['CreateDate'].dt.hour.between(11, 14),\n",
    "    'Merienda': transactions['CreateDate'].dt.hour.between(15, 17),\n",
    "    'Dinner': transactions['CreateDate'].dt.hour.between(18, 24)\n",
    "}\n",
    "\n",
    "for k in conditions.keys():\n",
    "    agg = get_aggregated_data(conditions[k], k)\n",
    "    final = final.join(agg, on=['CreateDate', 'Store'], how='left')"
   ],
   "id": "988745c1da061a9",
   "outputs": [],
   "execution_count": 7
  },
  {
   "metadata": {},
   "cell_type": "markdown",
   "source": "# Cleaning up the output",
   "id": "d6077ba7e79fbc24"
  },
  {
   "metadata": {
    "ExecuteTime": {
     "end_time": "2025-04-21T12:13:22.072777Z",
     "start_time": "2025-04-21T12:13:22.068194Z"
    }
   },
   "cell_type": "code",
   "source": [
    "columns = [\n",
    "    'TotalGross', 'TotalHeadCount', 'TotalTransactionCount', 'TotalAverageCheque',\n",
    "    'DineInGross', 'DineInHeadCount', 'DineInTransactionCount', 'DineInAverageCheque',\n",
    "    'TakeOutGross', 'TakeOutHeadCount', 'TakeOutTransactionCount', 'TakeOutAverageCheque',\n",
    "    'FunctionGross', 'FunctionHeadCount', 'FunctionTransactionCount', 'FunctionAverageCheque',\n",
    "    'InstitutionalGross', 'InstitutionalHeadCount', 'InstitutionalTransactionCount', 'InstitutionalAverageCheque',\n",
    "    'DeliveryGross', 'DeliveryHeadCount', 'DeliveryTransactionCount', 'DeliveryAverageCheque',\n",
    "    'BreakfastGross', 'BreakfastHeadCount', 'BreakfastTransactionCount', 'BreakfastAverageCheque',\n",
    "    'LunchGross', 'LunchHeadCount', 'LunchTransactionCount', 'LunchAverageCheque',\n",
    "    'DinnerGross', 'DinnerHeadCount', 'DinnerTransactionCount', 'DinnerAverageCheque',\n",
    "    'MeriendaGross', 'MeriendaHeadCount', 'MeriendaTransactionCount', 'MeriendaAverageCheque',\n",
    "    'FoodPandaGross', 'FoodPandaHeadCount', 'FoodPandaTransactionCount', 'FoodPandaAverageCheque',\n",
    "    'OnsGross', 'OnsHeadCount', 'OnsTransactionCount', 'OnsAverageCheque',\n",
    "    'GrabGross', 'GrabHeadCount', 'GrabTransactionCount', 'GrabAverageCheque']\n",
    "\n",
    "final = final[columns]\n",
    "\n",
    "final.fillna(0).round(5).to_csv(f\"outputs/daily_sales_report-{start}-{end}.csv\")"
   ],
   "id": "8699f8dfb6c482a9",
   "outputs": [],
   "execution_count": null
  },
  {
   "metadata": {
    "ExecuteTime": {
     "end_time": "2025-04-21T12:13:22.089057Z",
     "start_time": "2025-04-21T12:13:22.078799Z"
    }
   },
   "cell_type": "code",
   "source": "",
   "id": "2858324c1d621794",
   "outputs": [],
   "execution_count": null
  }
 ],
 "metadata": {
  "kernelspec": {
   "display_name": "Python 3",
   "language": "python",
   "name": "python3"
  },
  "language_info": {
   "codemirror_mode": {
    "name": "ipython",
    "version": 2
   },
   "file_extension": ".py",
   "mimetype": "text/x-python",
   "name": "python",
   "nbconvert_exporter": "python",
   "pygments_lexer": "ipython2",
   "version": "2.7.6"
  }
 },
 "nbformat": 4,
 "nbformat_minor": 5
}
