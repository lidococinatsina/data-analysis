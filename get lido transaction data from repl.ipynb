{
 "cells": [
  {
   "cell_type": "code",
   "id": "initial_id",
   "metadata": {
    "collapsed": true,
    "ExecuteTime": {
     "end_time": "2025-04-19T10:10:43.249967Z",
     "start_time": "2025-04-19T10:10:42.787558Z"
    }
   },
   "source": [
    "import pandas as pd\n",
    "from sqlalchemy import create_engine\n",
    "\n",
    "%load_ext dotenv\n",
    "%dotenv\n",
    "\n",
    "connection_string = %env LIDO_CONNECTION_STRING\n",
    "engine = create_engine(connection_string)"
   ],
   "outputs": [],
   "execution_count": 1
  },
  {
   "metadata": {
    "ExecuteTime": {
     "end_time": "2025-04-19T10:10:53.009553Z",
     "start_time": "2025-04-19T10:10:43.459770Z"
    }
   },
   "cell_type": "code",
   "source": [
    "sql = \"select * from transactions\"\n",
    "pd.read_sql(sql, engine).to_csv('assets/lido_transactions.csv', index=False)"
   ],
   "id": "fd33aa6b0dc67ee6",
   "outputs": [],
   "execution_count": 3
  },
  {
   "metadata": {
    "ExecuteTime": {
     "end_time": "2025-04-19T10:10:53.019721Z",
     "start_time": "2025-04-19T10:10:53.014964Z"
    }
   },
   "cell_type": "code",
   "source": "engine.dispose(close=True)",
   "id": "f30f8c8b259612b5",
   "outputs": [],
   "execution_count": 4
  }
 ],
 "metadata": {
  "kernelspec": {
   "display_name": "Python 3",
   "language": "python",
   "name": "python3"
  },
  "language_info": {
   "codemirror_mode": {
    "name": "ipython",
    "version": 2
   },
   "file_extension": ".py",
   "mimetype": "text/x-python",
   "name": "python",
   "nbconvert_exporter": "python",
   "pygments_lexer": "ipython2",
   "version": "2.7.6"
  }
 },
 "nbformat": 4,
 "nbformat_minor": 5
}
