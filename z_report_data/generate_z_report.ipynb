{
 "cells": [
  {
   "cell_type": "code",
   "execution_count": null,
   "id": "146e88630226d81",
   "metadata": {
    "ExecuteTime": {
     "end_time": "2025-06-07T07:37:38.218457Z",
     "start_time": "2025-06-07T07:37:33.691173Z"
    }
   },
   "outputs": [],
   "source": [
    "# %run \"z_report_data/get required data.ipynb\""
   ]
  },
  {
   "cell_type": "code",
   "execution_count": null,
   "id": "initial_id",
   "metadata": {
    "ExecuteTime": {
     "end_time": "2025-06-07T07:37:38.319371Z",
     "start_time": "2025-06-07T07:37:38.316887Z"
    },
    "collapsed": true
   },
   "outputs": [],
   "source": [
    "from datetime import datetime\n",
    "from z_report_data.variables import app_vars\n",
    "import pandas as pd"
   ]
  },
  {
   "cell_type": "code",
   "execution_count": null,
   "id": "a1f8ece518079d85",
   "metadata": {
    "ExecuteTime": {
     "end_time": "2025-06-07T07:37:38.429019Z",
     "start_time": "2025-06-07T07:37:38.323988Z"
    }
   },
   "outputs": [],
   "source": [
    "store_name = app_vars.STORE_NAME\n",
    "transactions = (\n",
    "    pd\n",
    "    .read_csv(\n",
    "        f'./assets/{store_name}_transactions.csv',\n",
    "        parse_dates=['CreateDate', 'DeleteDate'],\n",
    "        date_format='%Y-%m-%d %H:%M:%S',\n",
    "        dtype={'Store': 'category'},\n",
    "        usecols=['Id', 'CreateDate', 'HeadCount', 'PrivilegeHeadCount', 'Gross', 'Tags', 'DeleteDate', 'SyncInfoId']\n",
    "    )\n",
    "    .dropna(how='all')\n",
    ")\n",
    "\n",
    "after_start = transactions['CreateDate'] >= app_vars.START_DATE\n",
    "before_end = transactions['CreateDate'] < app_vars.END_DATE\n",
    "\n",
    "transactions = transactions[after_start & before_end]"
   ]
  },
  {
   "cell_type": "code",
   "execution_count": null,
   "id": "835b92cf545057b1",
   "metadata": {
    "ExecuteTime": {
     "end_time": "2025-06-07T07:37:38.461435Z",
     "start_time": "2025-06-07T07:37:38.442968Z"
    }
   },
   "outputs": [],
   "source": [
    "sync_infos = (\n",
    "    pd\n",
    "    .read_csv(\n",
    "        f'./assets/{store_name}_transactions_sync_info.csv',\n",
    "        usecols=['Id', 'LocalReference', 'ExternalReference'],\n",
    "        dtype={'ExternalReference': 'int64', 'LocalReference':'int64'}\n",
    "    )\n",
    ")\n",
    "\n",
    "sync_infos.info()"
   ]
  },
  {
   "cell_type": "code",
   "execution_count": null,
   "id": "3e0339897aa67a0b",
   "metadata": {
    "ExecuteTime": {
     "end_time": "2025-06-07T07:37:38.492932Z",
     "start_time": "2025-06-07T07:37:38.470441Z"
    }
   },
   "outputs": [],
   "source": [
    "discounts = (\n",
    "    pd\n",
    "    .read_csv(\n",
    "        f'./assets/{store_name}_transaction_discounts.csv',\n",
    "        usecols=['Amount', 'TransactionId', 'Type', 'DeleteDate']\n",
    "    )\n",
    "    .where(lambda x : x['DeleteDate'].isna())\n",
    ")\n",
    "\n",
    "discounts"
   ]
  },
  {
   "cell_type": "code",
   "execution_count": null,
   "id": "be4f7e8fa8b7bdb5",
   "metadata": {
    "ExecuteTime": {
     "end_time": "2025-06-07T07:37:38.534324Z",
     "start_time": "2025-06-07T07:37:38.523195Z"
    }
   },
   "outputs": [],
   "source": [
    "merged = (\n",
    "    transactions\n",
    "    .merge(\n",
    "        sync_infos,\n",
    "        how='inner', left_on='SyncInfoId', right_on='Id',\n",
    "    )\n",
    "    .dropna(how='all')\n",
    "    .drop(['Id_y', 'SyncInfoId', 'LocalReference'], axis=1)\n",
    "    .rename(columns={'Id_x': 'Id'})\n",
    ")\n",
    "\n",
    "merged.head()"
   ]
  },
  {
   "cell_type": "code",
   "execution_count": null,
   "id": "6369038acffaaf12",
   "metadata": {
    "ExecuteTime": {
     "end_time": "2025-06-07T07:40:51.447012Z",
     "start_time": "2025-06-07T07:40:51.430011Z"
    }
   },
   "outputs": [],
   "source": [
    "trs = merged\n",
    "valid = trs[trs['DeleteDate'].isna()]\n",
    "cancelled = trs[trs['DeleteDate'].isna() == False]\n",
    "\n",
    "tr_discs = discounts.merge(trs, how='inner', left_on='TransactionId', right_on='Id')\n",
    "seniors = tr_discs['Type'] == 'SeniorDiscount'\n",
    "pwds = tr_discs['Type'] == 'Pwd'\n",
    "priv_discs = tr_discs[seniors | pwds]\n",
    "opens = tr_discs['Type'] == 'OpenDiscount'\n",
    "open_discounts = tr_discs[opens]\n",
    "vat_exes = tr_discs['Type'] == 'VatExempt'\n",
    "vat_exclusives = tr_discs[vat_exes]\n",
    "\n",
    "gross = valid['Gross'].sum()\n",
    "count = valid['Id'].count()\n",
    "cancelCount = cancelled['Id'].count()\n",
    "cancelGross = cancelled['Gross'].sum()\n",
    "priv_disc = priv_discs['Amount'].sum()\n",
    "open_disc = open_discounts['Amount'].sum()\n",
    "vat_of_vat_exempt = vat_exclusives['Amount'].sum()\n",
    "vat_exempt = vat_of_vat_exempt / 0.12\n",
    "vatable = gross - vat_exempt\n",
    "vat = vatable * 0.12\n",
    "trans_start = valid['ExternalReference'].min()\n",
    "trans_end = valid['ExternalReference'].max()\n",
    "\n",
    "date_format = '%m/%d/%Y %I:%M %p'\n",
    "report_date_from = valid['CreateDate'].min()\n",
    "report_date_to = valid['CreateDate'].max()\n",
    "\n",
    "with open(f\"./output/{store_name}-z-report.txt\", 'w', encoding='utf-8') as file:\n",
    "    file.write(f\"{'Consolidated Z Report':^42}\\n\")\n",
    "    for col in app_vars.header.split('#'):\n",
    "        file.write(f\"{col:^42}\\n\")\n",
    "\n",
    "    file.write(\"\\n\")\n",
    "    file.write(f\"{'Print Date:':<21}{datetime.today().strftime(date_format):>21}\\n\")\n",
    "    file.write(f\"{'Report Date From:':<21}{report_date_from.strftime(date_format):>21}\\n\")\n",
    "    file.write(f\"{'Report Date To:':<21}{report_date_to.strftime(date_format):>21}\\n\")\n",
    "    file.write(\"=\" * 42)\n",
    "    file.write(\"\\n\")\n",
    "    file.write(f\"{'Trans Count:':<21}{count:>21}\\n\")\n",
    "    file.write(f\"{'Void Count:':<21}{cancelCount:>21}\\n\")\n",
    "    file.write(f\"{'Void Amount:':<21}{cancelGross:>21,.2f}\\n\")\n",
    "    file.write(f\"{'Change Fund:':<21}{10000:>21,.2f}\\n\")\n",
    "    file.write(f\"{'Gross Sales:':<21}{gross:>21,.2f}\\n\")\n",
    "    file.write(f\"{'Priv. Discount:':<21}{priv_disc:>21,.2f}\\n\")\n",
    "    file.write(f\"{'Other Discount:':<21}{open_disc:>21,.2f}\\n\")\n",
    "    file.write(f\"{'VAT Amount:':<21}{vat:>21,.2f}\\n\")\n",
    "    file.write(f\"{'VATABLE:':<21}{vatable:>21,.2f}\\n\")\n",
    "    file.write(f\"{'VAT Exempt:':<21}{vat_exempt:>21,.2f}\\n\")\n",
    "    file.write(f\"{'Zero-Rated:':<21}{0.00:>21,.2f}\\n\")\n",
    "    file.write(f\"{'Trans Start:':<21}{trans_start:>21}\\n\")\n",
    "    file.write(f\"{'Trans End:':<21}{trans_end:>21}\\n\")\n",
    "    file.write(f\"{'Reset Counter:':<21}{0:>21}\\n\")\n",
    "    file.write(f\"{'Checked By:':<21}{'mark':>21}\\n\")\n",
    "\n",
    "with open(f'./outputs/{store_name}-z-report.txt', 'r', encoding='utf-8') as f:\n",
    "    print(f.read())"
   ]
  }
 ],
 "metadata": {
  "kernelspec": {
   "display_name": "Python 3 (ipykernel)",
   "language": "python",
   "name": "python3"
  },
  "language_info": {
   "codemirror_mode": {
    "name": "ipython",
    "version": 3
   },
   "file_extension": ".py",
   "mimetype": "text/x-python",
   "name": "python",
   "nbconvert_exporter": "python",
   "pygments_lexer": "ipython3",
   "version": "3.11.6"
  }
 },
 "nbformat": 4,
 "nbformat_minor": 5
}
